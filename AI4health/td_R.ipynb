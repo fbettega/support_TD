{
 "cells": [
  {
   "cell_type": "markdown",
   "id": "cd71b477",
   "metadata": {},
   "source": [
    "This tutorial is an exercise in self-assessment of your X knowledge. It contains examples of how to perform a variety of tasks. The proposed examples can not be exhaustive I strongly recommend that you ask yourself how to perform each of these examples in general. And not to limit yourself to answer the questions. The proposed solutions are only one possibility among others and do not pretend to be the most efficient way to solve these exercises"
   ]
  },
  {
   "cell_type": "markdown",
   "id": "87f9bb3f",
   "metadata": {},
   "source": [
    "## Data transformation"
   ]
  },
  {
   "cell_type": "markdown",
   "id": "afde2239",
   "metadata": {},
   "source": [
    "#### Install and load a package"
   ]
  },
  {
   "cell_type": "code",
   "execution_count": null,
   "id": "7577461f",
   "metadata": {},
   "outputs": [],
   "source": [
    "library(tidyverse)"
   ]
  },
  {
   "cell_type": "markdown",
   "id": "b057db11",
   "metadata": {},
   "source": [
    "#### Upload CSV provided for this session, and load it.\n",
    "\n",
    "Note : You should be able to load data from various format text, excel, SAS or Stata file.\n",
    "\n",
    "Note2 : If your file cannot be parsed, check the delimiter/separator between attributes' values in the provided csv file and update the delimiter argument passed to the reading function"
   ]
  },
  {
   "cell_type": "code",
   "execution_count": null,
   "id": "ea07fdde",
   "metadata": {},
   "outputs": [],
   "source": []
  },
  {
   "cell_type": "markdown",
   "id": "440b79c3",
   "metadata": {},
   "source": [
    "#### Get datatype of each column"
   ]
  },
  {
   "cell_type": "code",
   "execution_count": null,
   "id": "b561b225",
   "metadata": {},
   "outputs": [],
   "source": []
  },
  {
   "cell_type": "markdown",
   "id": "2334a437",
   "metadata": {},
   "source": [
    "#### Quickly check what your data look like"
   ]
  },
  {
   "cell_type": "code",
   "execution_count": null,
   "id": "b9bba825",
   "metadata": {},
   "outputs": [],
   "source": []
  },
  {
   "cell_type": "markdown",
   "id": "0d118dc8",
   "metadata": {},
   "source": [
    "### Subset data by row (get distinct row or row matching a condition)"
   ]
  },
  {
   "cell_type": "markdown",
   "id": "59f9f823",
   "metadata": {},
   "source": [
    "#### Select only patients from Isère department (38)\n",
    "\n",
    "Note: the department attribute may not be in a numeric format"
   ]
  },
  {
   "cell_type": "code",
   "execution_count": null,
   "id": "fc1b3e62",
   "metadata": {},
   "outputs": [],
   "source": []
  },
  {
   "cell_type": "markdown",
   "id": "022bb952",
   "metadata": {},
   "source": [
    "#### Select male patients with BMI > 30, and either older than 45 years or with heart failure            "
   ]
  },
  {
   "cell_type": "code",
   "execution_count": null,
   "id": "cb05758a",
   "metadata": {},
   "outputs": [],
   "source": []
  },
  {
   "cell_type": "markdown",
   "id": "6b3593c4",
   "metadata": {},
   "source": [
    "### Subset data by column"
   ]
  },
  {
   "cell_type": "markdown",
   "id": "897ccd0b",
   "metadata": {},
   "source": [
    "#### Create a new dataframe with only ATC and SYM column"
   ]
  },
  {
   "cell_type": "code",
   "execution_count": null,
   "id": "f402d9f1",
   "metadata": {},
   "outputs": [],
   "source": []
  },
  {
   "cell_type": "markdown",
   "id": "729efec3",
   "metadata": {},
   "source": [
    "### Summarize one, multiple or all column"
   ]
  },
  {
   "cell_type": "markdown",
   "id": "7d963c83",
   "metadata": {},
   "source": [
    "#### Display the descriptive statistics of one column"
   ]
  },
  {
   "cell_type": "code",
   "execution_count": null,
   "id": "c596d806",
   "metadata": {},
   "outputs": [],
   "source": []
  },
  {
   "cell_type": "markdown",
   "id": "0bfacd40",
   "metadata": {},
   "source": [
    "#### Display the descriptive statistics of multiple columns"
   ]
  },
  {
   "cell_type": "code",
   "execution_count": null,
   "id": "66379473",
   "metadata": {},
   "outputs": [],
   "source": []
  },
  {
   "cell_type": "markdown",
   "id": "f66e8e8d",
   "metadata": {},
   "source": [
    "#### Display the descriptive statistics of all columns"
   ]
  },
  {
   "cell_type": "code",
   "execution_count": null,
   "id": "7dd72c39",
   "metadata": {},
   "outputs": [],
   "source": []
  },
  {
   "cell_type": "markdown",
   "id": "a90d3e0c",
   "metadata": {},
   "source": [
    "### Get mean, median or count for one or more column group by another column"
   ]
  },
  {
   "cell_type": "markdown",
   "id": "80cbfea0",
   "metadata": {},
   "source": [
    "#### Mean"
   ]
  },
  {
   "cell_type": "code",
   "execution_count": null,
   "id": "f22cc8a7",
   "metadata": {},
   "outputs": [],
   "source": []
  },
  {
   "cell_type": "markdown",
   "id": "c667d444",
   "metadata": {},
   "source": [
    "#### Median"
   ]
  },
  {
   "cell_type": "code",
   "execution_count": null,
   "id": "47f7436b",
   "metadata": {},
   "outputs": [],
   "source": []
  },
  {
   "cell_type": "markdown",
   "id": "ce5edd6e",
   "metadata": {},
   "source": [
    "#### Count"
   ]
  },
  {
   "cell_type": "code",
   "execution_count": null,
   "id": "e84bb885",
   "metadata": {},
   "outputs": [],
   "source": []
  },
  {
   "cell_type": "markdown",
   "id": "401ce877",
   "metadata": {},
   "source": [
    "### Order a data by one or more column and in descending order"
   ]
  },
  {
   "cell_type": "markdown",
   "id": "91baa04c",
   "metadata": {},
   "source": [
    "#### One column in ascending order"
   ]
  },
  {
   "cell_type": "code",
   "execution_count": null,
   "id": "3eac7531",
   "metadata": {
    "scrolled": true
   },
   "outputs": [],
   "source": []
  },
  {
   "cell_type": "markdown",
   "id": "6903d865",
   "metadata": {},
   "source": [
    "#### Multiple columns in descending order"
   ]
  },
  {
   "cell_type": "code",
   "execution_count": null,
   "id": "7e9551af",
   "metadata": {
    "scrolled": true
   },
   "outputs": [],
   "source": []
  },
  {
   "cell_type": "markdown",
   "id": "2fe771da",
   "metadata": {},
   "source": [
    "### Compute the cumulative sum of each column and the difference between consecutive rows.### Create new column for example cumulative sum of previous columns, offset elements of previous column by 1, distance between two columns."
   ]
  },
  {
   "cell_type": "markdown",
   "id": "a745eef1",
   "metadata": {},
   "source": [
    "#### Compute the cumlative sum of all possible columns"
   ]
  },
  {
   "cell_type": "code",
   "execution_count": null,
   "id": "a9130bfd",
   "metadata": {},
   "outputs": [],
   "source": []
  },
  {
   "cell_type": "markdown",
   "id": "ea4a17a2",
   "metadata": {},
   "source": [
    "#### Subtract the age of the patient in the previous row from the age of each patient"
   ]
  },
  {
   "cell_type": "code",
   "execution_count": null,
   "id": "d5b9e119",
   "metadata": {},
   "outputs": [],
   "source": []
  },
  {
   "cell_type": "markdown",
   "id": "169d83a0",
   "metadata": {},
   "source": [
    "### Join two or more tables (by their Id for example)"
   ]
  },
  {
   "cell_type": "markdown",
   "id": "a5bbb021",
   "metadata": {},
   "source": [
    "#### Create a dataframe with 15 numbers randomly chosen between 1 and 100"
   ]
  },
  {
   "cell_type": "code",
   "execution_count": null,
   "id": "ccea6511",
   "metadata": {},
   "outputs": [],
   "source": []
  },
  {
   "cell_type": "markdown",
   "id": "6dac6f96",
   "metadata": {},
   "source": [
    "#### Find all the lines whose department appears in the previously generated values\n"
   ]
  },
  {
   "cell_type": "code",
   "execution_count": null,
   "id": "443942a4",
   "metadata": {},
   "outputs": [],
   "source": []
  },
  {
   "cell_type": "markdown",
   "id": "64974017",
   "metadata": {},
   "source": [
    "### Handle missing value (remove all missing value, or replace it)"
   ]
  },
  {
   "cell_type": "markdown",
   "id": "42140a79",
   "metadata": {},
   "source": [
    "#### Remove all rows with missing values"
   ]
  },
  {
   "cell_type": "code",
   "execution_count": null,
   "id": "8ad0dfb9",
   "metadata": {},
   "outputs": [],
   "source": []
  },
  {
   "cell_type": "markdown",
   "id": "4f6cb539",
   "metadata": {},
   "source": [
    "#### Replace missing data in all the numeric columns with the median value of the subset having the same daytime sleepiness (\"SYM_somnolenceDiurne\") "
   ]
  },
  {
   "cell_type": "code",
   "execution_count": null,
   "id": "050cd299",
   "metadata": {},
   "outputs": [],
   "source": []
  },
  {
   "cell_type": "markdown",
   "id": "e5b61291",
   "metadata": {},
   "source": [
    "#### Have all missing values been imputed ? If not, why ?"
   ]
  },
  {
   "cell_type": "code",
   "execution_count": null,
   "id": "ecebc270",
   "metadata": {},
   "outputs": [],
   "source": []
  },
  {
   "cell_type": "code",
   "execution_count": null,
   "id": "958d5db5",
   "metadata": {},
   "outputs": [],
   "source": []
  },
  {
   "cell_type": "markdown",
   "id": "ed0221aa",
   "metadata": {},
   "source": [
    "### Reshape data from wide to long "
   ]
  },
  {
   "cell_type": "markdown",
   "id": "d5943e21",
   "metadata": {},
   "source": [
    "#### Unpivot the dataset to long format with an 'id', a 'Labels' and a  'Values' columns"
   ]
  },
  {
   "cell_type": "code",
   "execution_count": null,
   "id": "d66129e9",
   "metadata": {},
   "outputs": [],
   "source": []
  },
  {
   "cell_type": "markdown",
   "id": "553e9599",
   "metadata": {},
   "source": [
    "#### Unpivot columns starting with 'ATC_' to long format with an 'id', a 'Labels' and a  'Values' columns"
   ]
  },
  {
   "cell_type": "code",
   "execution_count": null,
   "id": "4e55a383",
   "metadata": {},
   "outputs": [],
   "source": []
  },
  {
   "cell_type": "markdown",
   "id": "5a8d2152",
   "metadata": {},
   "source": [
    "## Data visualization"
   ]
  },
  {
   "cell_type": "markdown",
   "id": "501aae1b",
   "metadata": {},
   "source": [
    "Note : You must be able to choose the right plot depending on data type (continuous, discrete)."
   ]
  },
  {
   "cell_type": "markdown",
   "id": "1fe3bba5",
   "metadata": {},
   "source": [
    "### Plot the distribution of BIO_cholesterolemieTotale "
   ]
  },
  {
   "cell_type": "code",
   "execution_count": null,
   "id": "c8594b34",
   "metadata": {},
   "outputs": [],
   "source": []
  },
  {
   "cell_type": "markdown",
   "id": "e4b0486b",
   "metadata": {},
   "source": [
    "### Plot the descriptive statistics of CHA_BMI and SYM_echelleEpworth side by side "
   ]
  },
  {
   "cell_type": "code",
   "execution_count": null,
   "id": "9626d3d4",
   "metadata": {},
   "outputs": [],
   "source": []
  },
  {
   "cell_type": "markdown",
   "id": "28b0156b",
   "metadata": {},
   "source": [
    "### Plot BIO_cholesterolemieTotale against CHA_BMI with colors depending on CHA_id_sexe_P"
   ]
  },
  {
   "cell_type": "code",
   "execution_count": null,
   "id": "13006d63",
   "metadata": {},
   "outputs": [],
   "source": []
  },
  {
   "cell_type": "markdown",
   "id": "1b62a192",
   "metadata": {},
   "source": [
    "## Basic Programming skills"
   ]
  },
  {
   "cell_type": "markdown",
   "id": "6c897955",
   "metadata": {},
   "source": [
    "#### Iterate through some data structure using a loop (For or While)\n",
    "\n",
    "In solution i print dataframe column names"
   ]
  },
  {
   "cell_type": "code",
   "execution_count": null,
   "id": "d627d3de",
   "metadata": {},
   "outputs": [],
   "source": []
  },
  {
   "cell_type": "code",
   "execution_count": null,
   "id": "58a56ec0",
   "metadata": {},
   "outputs": [],
   "source": []
  },
  {
   "cell_type": "markdown",
   "id": "0eccefc7",
   "metadata": {},
   "source": [
    "#### Test a condition using IF statement\n",
    "\n",
    "Using a and b vectors below print a statment if a is greater than b and another if a is lesser than b and a third statment if a equals b."
   ]
  },
  {
   "cell_type": "code",
   "execution_count": null,
   "id": "5c9a8c5d",
   "metadata": {},
   "outputs": [],
   "source": []
  },
  {
   "cell_type": "code",
   "execution_count": null,
   "id": "0b538920",
   "metadata": {},
   "outputs": [],
   "source": []
  },
  {
   "cell_type": "markdown",
   "id": "57106154",
   "metadata": {},
   "source": [
    "#### Create a simple function which determines the root of a number"
   ]
  },
  {
   "cell_type": "code",
   "execution_count": null,
   "id": "c214a619",
   "metadata": {},
   "outputs": [],
   "source": []
  },
  {
   "cell_type": "markdown",
   "id": "00d278d9",
   "metadata": {},
   "source": [
    "### Basic string manipulation (e.g.: detect a string containing a specific substring or remove part of a string)\n"
   ]
  },
  {
   "cell_type": "markdown",
   "id": "791ee54c",
   "metadata": {},
   "source": [
    "#### Lower the strings in column classe_atc_1"
   ]
  },
  {
   "cell_type": "code",
   "execution_count": null,
   "id": "6e33a1fe",
   "metadata": {},
   "outputs": [],
   "source": []
  },
  {
   "cell_type": "markdown",
   "id": "d3a63921",
   "metadata": {},
   "source": [
    "#### In column classe_atc_1, find all the rows containing \",\" or \"et\""
   ]
  },
  {
   "cell_type": "code",
   "execution_count": null,
   "id": "35705772",
   "metadata": {},
   "outputs": [],
   "source": []
  },
  {
   "cell_type": "markdown",
   "id": "0c304017",
   "metadata": {},
   "source": [
    "#### Among the drugs listed, some belong to a class of antihypertensive drugs called sartans. All sartans end with \"sartan\", e.g. candesartan. Remove all words ending by sartans."
   ]
  },
  {
   "cell_type": "code",
   "execution_count": null,
   "id": "0eff8deb",
   "metadata": {
    "scrolled": true
   },
   "outputs": [],
   "source": []
  },
  {
   "cell_type": "markdown",
   "id": "f677bf44",
   "metadata": {},
   "source": [
    "#### Save your results in a CSV file or other format."
   ]
  },
  {
   "cell_type": "code",
   "execution_count": null,
   "id": "744d20c2",
   "metadata": {},
   "outputs": [],
   "source": []
  }
 ],
 "metadata": {
  "kernelspec": {
   "display_name": "R",
   "language": "R",
   "name": "ir"
  },
  "language_info": {
   "codemirror_mode": "r",
   "file_extension": ".r",
   "mimetype": "text/x-r-source",
   "name": "R",
   "pygments_lexer": "r",
   "version": "4.1.1"
  }
 },
 "nbformat": 4,
 "nbformat_minor": 5
}
