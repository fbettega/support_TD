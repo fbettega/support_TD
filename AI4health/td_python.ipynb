{
 "cells": [
  {
   "cell_type": "markdown",
   "id": "25e99ae5",
   "metadata": {},
   "source": [
    "This tutorial is an exercise in self-assessment of your X knowledge. It contains examples of how to perform a variety of tasks. \n",
    "The proposed examples can not be exhaustive I strongly recommend that you ask yourself how to perform each of these examples in general. And not to limit yourself to answer the questions.\n",
    "The proposed solutions are only one possibility among others and do not pretend to be the most efficient way to solve these exercises."
   ]
  },
  {
   "cell_type": "markdown",
   "id": "c2919bbe",
   "metadata": {},
   "source": [
    "## Data transformation"
   ]
  },
  {
   "cell_type": "markdown",
   "id": "b4a29988",
   "metadata": {},
   "source": [
    "#### Install and load a package"
   ]
  },
  {
   "cell_type": "code",
   "execution_count": 1,
   "id": "16c4cff0",
   "metadata": {
    "ExecuteTime": {
     "end_time": "2021-08-27T10:47:50.487302Z",
     "start_time": "2021-08-27T10:47:50.094632Z"
    }
   },
   "outputs": [],
   "source": [
    "import pandas as pd\n",
    "import numpy as np\n",
    "import matplotlib.pyplot as plt"
   ]
  },
  {
   "cell_type": "markdown",
   "id": "ffab65ef",
   "metadata": {},
   "source": [
    "#### Upload CSV provided for this session, and load it.\n",
    "\n",
    "Note : You should be able to load data from various format text, excel, SAS or Stata file.\n",
    "\n",
    "Note2 : If your file cannot be parsed, check the delimiter/separator between attributes' values in the provided csv file and update the delimiter argument passed to the reading function"
   ]
  },
  {
   "cell_type": "markdown",
   "id": "7eb05382",
   "metadata": {
    "ExecuteTime": {
     "end_time": "2021-08-27T10:47:53.747668Z",
     "start_time": "2021-08-27T10:47:53.718964Z"
    }
   },
   "source": [
    "#### Create a copy of your data frame and modify it without changing the initial data frame"
   ]
  },
  {
   "cell_type": "code",
   "execution_count": null,
   "id": "3cb55a0c",
   "metadata": {},
   "outputs": [],
   "source": []
  },
  {
   "cell_type": "markdown",
   "id": "cdc8d1cf",
   "metadata": {},
   "source": [
    "#### Get datatype of each column"
   ]
  },
  {
   "cell_type": "code",
   "execution_count": null,
   "id": "253c19e7",
   "metadata": {
    "ExecuteTime": {
     "end_time": "2021-08-27T10:47:55.490876Z",
     "start_time": "2021-08-27T10:47:55.485867Z"
    }
   },
   "outputs": [],
   "source": []
  },
  {
   "cell_type": "markdown",
   "id": "be3b12b9",
   "metadata": {},
   "source": [
    "#### Quickly check what your data look like"
   ]
  },
  {
   "cell_type": "code",
   "execution_count": null,
   "id": "989e32c3",
   "metadata": {
    "ExecuteTime": {
     "end_time": "2021-08-27T10:48:03.687771Z",
     "start_time": "2021-08-27T10:48:03.671866Z"
    }
   },
   "outputs": [],
   "source": []
  },
  {
   "cell_type": "markdown",
   "id": "bc16db3c",
   "metadata": {},
   "source": [
    "### Subset data by row (get distinct row or row matching a condition)"
   ]
  },
  {
   "cell_type": "markdown",
   "id": "9666f5e7",
   "metadata": {},
   "source": [
    "#### Select only patients from Isère department (38)\n",
    "\n",
    "Note: the department attribute may not be in a numeric format"
   ]
  },
  {
   "cell_type": "code",
   "execution_count": null,
   "id": "2f08a050",
   "metadata": {},
   "outputs": [],
   "source": []
  },
  {
   "cell_type": "markdown",
   "id": "5c335ac9",
   "metadata": {},
   "source": [
    "#### Select male patients with BMI > 30, and either older than 45 years or with heart failure            "
   ]
  },
  {
   "cell_type": "code",
   "execution_count": null,
   "id": "e5bc771b",
   "metadata": {},
   "outputs": [],
   "source": []
  },
  {
   "cell_type": "markdown",
   "id": "c2590b8c",
   "metadata": {},
   "source": [
    "### Subset data by column"
   ]
  },
  {
   "cell_type": "markdown",
   "id": "31c0412b",
   "metadata": {},
   "source": [
    "#### Create a new dataframe with only ATC and SYM column"
   ]
  },
  {
   "cell_type": "code",
   "execution_count": null,
   "id": "23606b50",
   "metadata": {
    "scrolled": true
   },
   "outputs": [],
   "source": []
  },
  {
   "cell_type": "markdown",
   "id": "27107e3d",
   "metadata": {},
   "source": [
    "Other solution"
   ]
  },
  {
   "cell_type": "code",
   "execution_count": null,
   "id": "3a5cdcfb",
   "metadata": {},
   "outputs": [],
   "source": []
  },
  {
   "cell_type": "markdown",
   "id": "1c5fc994",
   "metadata": {},
   "source": [
    "### Summarize one, multiple or all columns"
   ]
  },
  {
   "cell_type": "markdown",
   "id": "8c05d4c6",
   "metadata": {},
   "source": [
    "#### Display the descriptive statistics of one column"
   ]
  },
  {
   "cell_type": "code",
   "execution_count": null,
   "id": "0d82951c",
   "metadata": {
    "scrolled": true
   },
   "outputs": [],
   "source": []
  },
  {
   "cell_type": "markdown",
   "id": "4c475511",
   "metadata": {},
   "source": [
    "#### Display the descriptive statistics of multiple columns"
   ]
  },
  {
   "cell_type": "code",
   "execution_count": null,
   "id": "664c34b6",
   "metadata": {
    "scrolled": true
   },
   "outputs": [],
   "source": []
  },
  {
   "cell_type": "markdown",
   "id": "deaff212",
   "metadata": {},
   "source": [
    "#### Display the descriptive statistics of all columns"
   ]
  },
  {
   "cell_type": "code",
   "execution_count": null,
   "id": "c6ec9262",
   "metadata": {},
   "outputs": [],
   "source": []
  },
  {
   "cell_type": "markdown",
   "id": "b6fc4833",
   "metadata": {},
   "source": [
    "### Get mean, median and count for one or more columns on the dataset grouped by another column"
   ]
  },
  {
   "cell_type": "markdown",
   "id": "719215c1",
   "metadata": {},
   "source": [
    "#### Mean"
   ]
  },
  {
   "cell_type": "code",
   "execution_count": null,
   "id": "0f262c6e",
   "metadata": {},
   "outputs": [],
   "source": []
  },
  {
   "cell_type": "markdown",
   "id": "53e3ea6b",
   "metadata": {},
   "source": [
    "#### Median"
   ]
  },
  {
   "cell_type": "code",
   "execution_count": null,
   "id": "be380323",
   "metadata": {},
   "outputs": [],
   "source": []
  },
  {
   "cell_type": "markdown",
   "id": "0aa060c6",
   "metadata": {},
   "source": [
    "#### Count"
   ]
  },
  {
   "cell_type": "code",
   "execution_count": null,
   "id": "c02c225b",
   "metadata": {},
   "outputs": [],
   "source": []
  },
  {
   "cell_type": "markdown",
   "id": "773b75e3",
   "metadata": {},
   "source": [
    "### Order data by one or more column in ascending or descending order"
   ]
  },
  {
   "cell_type": "markdown",
   "id": "165f1179",
   "metadata": {},
   "source": [
    "#### One column in ascending order"
   ]
  },
  {
   "cell_type": "code",
   "execution_count": null,
   "id": "65e94ac3",
   "metadata": {
    "scrolled": true
   },
   "outputs": [],
   "source": []
  },
  {
   "cell_type": "markdown",
   "id": "0be17e8f",
   "metadata": {},
   "source": [
    "#### Multiple columns in descending order"
   ]
  },
  {
   "cell_type": "code",
   "execution_count": null,
   "id": "086ebf10",
   "metadata": {
    "scrolled": true
   },
   "outputs": [],
   "source": []
  },
  {
   "cell_type": "markdown",
   "id": "eac748d6",
   "metadata": {},
   "source": [
    "### Compute the cumulative sum of each column and the difference between consecutive rows."
   ]
  },
  {
   "cell_type": "markdown",
   "id": "24ce789e",
   "metadata": {},
   "source": [
    "#### Compute the cumlative sum of all possible columns"
   ]
  },
  {
   "cell_type": "code",
   "execution_count": null,
   "id": "44163076",
   "metadata": {},
   "outputs": [],
   "source": []
  },
  {
   "cell_type": "markdown",
   "id": "feeaa8fb",
   "metadata": {},
   "source": [
    "#### Subtract the age of the patient in the previous row from the age of each patient"
   ]
  },
  {
   "cell_type": "code",
   "execution_count": null,
   "id": "08d97225",
   "metadata": {},
   "outputs": [],
   "source": []
  },
  {
   "cell_type": "markdown",
   "id": "25a9c1e4",
   "metadata": {},
   "source": [
    "### Join two or more tables (by their Id for example)"
   ]
  },
  {
   "cell_type": "markdown",
   "id": "7c9a2405",
   "metadata": {},
   "source": [
    "#### Create a dataframe with 15 numbers randomly chosen between 1 and 100"
   ]
  },
  {
   "cell_type": "code",
   "execution_count": null,
   "id": "6bd7f617",
   "metadata": {
    "ExecuteTime": {
     "end_time": "2021-08-27T13:58:14.242795Z",
     "start_time": "2021-08-27T13:58:14.231401Z"
    }
   },
   "outputs": [],
   "source": []
  },
  {
   "cell_type": "markdown",
   "id": "ec16f5cc",
   "metadata": {},
   "source": [
    "#### Find all the lines whose department appears in the previously generated values"
   ]
  },
  {
   "cell_type": "code",
   "execution_count": null,
   "id": "e8bafa77",
   "metadata": {
    "ExecuteTime": {
     "end_time": "2021-08-27T13:58:25.264443Z",
     "start_time": "2021-08-27T13:58:25.215563Z"
    },
    "scrolled": true
   },
   "outputs": [],
   "source": []
  },
  {
   "cell_type": "markdown",
   "id": "e0d13df6",
   "metadata": {},
   "source": [
    "### Handle missing values (remove all missing values, or replace it)"
   ]
  },
  {
   "cell_type": "markdown",
   "id": "75741a88",
   "metadata": {},
   "source": [
    "#### Remove all rows with missing values"
   ]
  },
  {
   "cell_type": "code",
   "execution_count": null,
   "id": "8d94121a",
   "metadata": {},
   "outputs": [],
   "source": []
  },
  {
   "cell_type": "markdown",
   "id": "4b57d147",
   "metadata": {},
   "source": [
    "#### Replace missing data in all the numeric columns with the median value of the subset having the same daytime sleepiness (\"SYM_somnolenceDiurne\") "
   ]
  },
  {
   "cell_type": "code",
   "execution_count": null,
   "id": "6a0d86ea",
   "metadata": {
    "ExecuteTime": {
     "end_time": "2021-08-27T14:07:49.247449Z",
     "start_time": "2021-08-27T14:07:49.193472Z"
    }
   },
   "outputs": [],
   "source": []
  },
  {
   "cell_type": "markdown",
   "id": "6659c1ad",
   "metadata": {},
   "source": [
    "#### Have all missing values been imputed ? If not, why ?"
   ]
  },
  {
   "cell_type": "code",
   "execution_count": null,
   "id": "dfb88e4d",
   "metadata": {},
   "outputs": [],
   "source": []
  },
  {
   "cell_type": "code",
   "execution_count": null,
   "id": "0599bf86",
   "metadata": {},
   "outputs": [],
   "source": []
  },
  {
   "cell_type": "markdown",
   "id": "760fca85",
   "metadata": {},
   "source": [
    "### Reshape data from wide to long "
   ]
  },
  {
   "cell_type": "markdown",
   "id": "b30d6deb",
   "metadata": {},
   "source": [
    "#### Unpivot the dataset to long format with an 'id', a 'Labels' and a  'Values' columns"
   ]
  },
  {
   "cell_type": "code",
   "execution_count": null,
   "id": "85a3d239",
   "metadata": {
    "ExecuteTime": {
     "end_time": "2021-08-27T14:10:30.551071Z",
     "start_time": "2021-08-27T14:10:30.504713Z"
    }
   },
   "outputs": [],
   "source": []
  },
  {
   "cell_type": "markdown",
   "id": "6b5ad2a3",
   "metadata": {},
   "source": [
    "#### Unpivot columns starting with 'ATC_' to long format with an 'id', a 'Labels' and a  'Values' columns"
   ]
  },
  {
   "cell_type": "code",
   "execution_count": null,
   "id": "c007b251",
   "metadata": {},
   "outputs": [],
   "source": []
  },
  {
   "cell_type": "markdown",
   "id": "f1e7a330",
   "metadata": {},
   "source": [
    "## Data visualization"
   ]
  },
  {
   "cell_type": "markdown",
   "id": "b4fb84c6",
   "metadata": {},
   "source": [
    "Note : You must be able to choose the right plot depending on data type (continuous, discrete)."
   ]
  },
  {
   "cell_type": "markdown",
   "id": "d7b827ec",
   "metadata": {},
   "source": [
    "### Plot the distribution of BIO_cholesterolemieTotale "
   ]
  },
  {
   "cell_type": "code",
   "execution_count": null,
   "id": "abda8f6f",
   "metadata": {},
   "outputs": [],
   "source": []
  },
  {
   "cell_type": "markdown",
   "id": "b74e6959",
   "metadata": {},
   "source": [
    "### Plot the descriptive statistics of CHA_BMI and SYM_echelleEpworth side by side "
   ]
  },
  {
   "cell_type": "code",
   "execution_count": null,
   "id": "90169c82",
   "metadata": {},
   "outputs": [],
   "source": []
  },
  {
   "cell_type": "markdown",
   "id": "a8e85245",
   "metadata": {},
   "source": [
    "### Plot BIO_cholesterolemieTotale against CHA_BMI with colors depending on CHA_id_sexe_P"
   ]
  },
  {
   "cell_type": "code",
   "execution_count": null,
   "id": "92f75519",
   "metadata": {},
   "outputs": [],
   "source": []
  },
  {
   "cell_type": "markdown",
   "id": "a99ea507",
   "metadata": {},
   "source": [
    "## Basic Programming skills"
   ]
  },
  {
   "cell_type": "markdown",
   "id": "fe18f69f",
   "metadata": {},
   "source": [
    "#### Iterate through some data structure using a loop (For or While)\n",
    "\n",
    "In the solution, I iteratively print dataframe column names"
   ]
  },
  {
   "cell_type": "code",
   "execution_count": null,
   "id": "8da50408",
   "metadata": {},
   "outputs": [],
   "source": []
  },
  {
   "cell_type": "code",
   "execution_count": null,
   "id": "93bc2dd4",
   "metadata": {},
   "outputs": [],
   "source": []
  },
  {
   "cell_type": "markdown",
   "id": "fdfc0206",
   "metadata": {},
   "source": [
    "#### Test a condition using IF statement"
   ]
  },
  {
   "cell_type": "markdown",
   "id": "ed06aeeb",
   "metadata": {},
   "source": [
    "Using a and b numpy arrays below, print a statement if a is greater than b and another if a is lesser than b and a third statement if a equals b."
   ]
  },
  {
   "cell_type": "code",
   "execution_count": null,
   "id": "4bb9d885",
   "metadata": {},
   "outputs": [],
   "source": []
  },
  {
   "cell_type": "code",
   "execution_count": null,
   "id": "aa2a8c13",
   "metadata": {},
   "outputs": [],
   "source": []
  },
  {
   "cell_type": "markdown",
   "id": "1f61d707",
   "metadata": {},
   "source": [
    "#### Create a simple function which determines the root of a number"
   ]
  },
  {
   "cell_type": "code",
   "execution_count": null,
   "id": "6273e097",
   "metadata": {},
   "outputs": [],
   "source": []
  },
  {
   "cell_type": "markdown",
   "id": "d521a835",
   "metadata": {},
   "source": [
    "### Basic string manipulation (e.g.: detect a string containing a specific substring or remove part of a string)"
   ]
  },
  {
   "cell_type": "markdown",
   "id": "f6c14567",
   "metadata": {},
   "source": [
    "#### Lower the strings in column classe_atc_1"
   ]
  },
  {
   "cell_type": "code",
   "execution_count": null,
   "id": "58b852fb",
   "metadata": {},
   "outputs": [],
   "source": []
  },
  {
   "cell_type": "markdown",
   "id": "35249da5",
   "metadata": {},
   "source": [
    "#### In column classe_atc_1, find all the rows containing \",\" or \"et\""
   ]
  },
  {
   "cell_type": "code",
   "execution_count": null,
   "id": "2a0c97b9",
   "metadata": {},
   "outputs": [],
   "source": []
  },
  {
   "cell_type": "markdown",
   "id": "d75ebc62",
   "metadata": {},
   "source": [
    "#### Among the drugs listed, some belong to a class of antihypertensive drugs called sartans. All sartans end with \"sartan\", e.g. candesartan. Remove all words ending by sartans."
   ]
  },
  {
   "cell_type": "code",
   "execution_count": null,
   "id": "9180b2bd",
   "metadata": {
    "ExecuteTime": {
     "end_time": "2021-08-27T14:29:31.367948Z",
     "start_time": "2021-08-27T14:29:31.306248Z"
    },
    "scrolled": true
   },
   "outputs": [],
   "source": []
  },
  {
   "cell_type": "markdown",
   "id": "22fc7e40",
   "metadata": {},
   "source": [
    "Other solution"
   ]
  },
  {
   "cell_type": "code",
   "execution_count": null,
   "id": "0136f093",
   "metadata": {
    "ExecuteTime": {
     "end_time": "2021-08-27T14:31:02.032304Z",
     "start_time": "2021-08-27T14:31:01.993477Z"
    }
   },
   "outputs": [],
   "source": []
  },
  {
   "cell_type": "markdown",
   "id": "f8dfa9e8",
   "metadata": {},
   "source": [
    "#### Save your results in a CSV file or other format."
   ]
  },
  {
   "cell_type": "code",
   "execution_count": null,
   "id": "470708d0",
   "metadata": {},
   "outputs": [],
   "source": []
  }
 ],
 "metadata": {
  "kernelspec": {
   "display_name": "Python 3 (ipykernel)",
   "language": "python",
   "name": "python3"
  },
  "language_info": {
   "codemirror_mode": {
    "name": "ipython",
    "version": 3
   },
   "file_extension": ".py",
   "mimetype": "text/x-python",
   "name": "python",
   "nbconvert_exporter": "python",
   "pygments_lexer": "ipython3",
   "version": "3.9.7"
  },
  "toc": {
   "base_numbering": 1,
   "nav_menu": {},
   "number_sections": true,
   "sideBar": true,
   "skip_h1_title": false,
   "title_cell": "Table of Contents",
   "title_sidebar": "Contents",
   "toc_cell": false,
   "toc_position": {},
   "toc_section_display": true,
   "toc_window_display": true
  }
 },
 "nbformat": 4,
 "nbformat_minor": 5
}
