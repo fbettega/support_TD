{
 "cells": [
  {
   "cell_type": "markdown",
   "id": "a5df9f7c",
   "metadata": {},
   "source": [
    "# TD 1 : Introduction à R et aux Statistiques descriptives\n",
    "\n",
    "\n",
    "Christelle Gonindard, Margaux Leroy, François Bettega et Marie Darracq\n",
    "\n",
    "\n",
    "## 1. Introduction\n",
    "\n",
    "### 1.1 Présentation des attentes des cours et TDs de cette année\n",
    "\n",
    "Ces Cours-TD sont destinés à vous apporter le recul nécessaire à l’interprétation des analyses\n",
    "statistiques que vous serez amenés à évaluer au cours de votre cursus et de votre vie professionnelle.\n",
    "Le plus important est de comprendre le principe de l’analyse utilisée et à se faire sa propre\n",
    "opinion sur une analyse statistique afin de démêler le vrai du faux. Le but n’est pas de faire de\n",
    "vous des statisticiens qui vont développer de nouvelles méthodes mais que vous soyez capable\n",
    "de comprendre et de détecter les erreurs et biais potentiels qui peuvent entrainer une mauvaise\n",
    "interprétation des données et des conclusions erronées.\n",
    "\n",
    "\n",
    "### 1.2 Contexte\n",
    "\n",
    "Comme il est décrit dans le cours, il est important de prendre conscience que les statistiques\n",
    "sont liées au domaine médical. Elles ont trouvé réellement leur essor et participé aux améliorations\n",
    "médicales à partir du moment où l’on a essayé de comprendre les causes des maladies, de\n",
    "la propagation d’une épidémie... \n",
    "\n",
    "Vous trouverez ci-dessous une liste non exhaustive de domaines\n",
    "d’application des statistiques en pharmacie :\n",
    "- Lors de la mise au point d’un nouveau médicament, trois étapes de vérification doivent être respectées :\n",
    "1. Est ce que le nouveau médicament n’est pas toxique pour l’homme?\n",
    "2. Est ce que le nouveau médicament est efficace ?\n",
    "3. Est ce que le nouveau médicament est plus efficace que les traitements existants ?\n",
    "- Lors de la mise au point d’un nouveau test diagnostique, d’une nouvelle méthode d’analyse, les questions qui suivent sont posées :\n",
    "1. Est ce que le nouveau test diagnostique fait mieux que le simple hasard pour donner un résultat positif à un patient réellement malade ?\n",
    "2. Est ce que la nouvelle méthode d’analyse fait aussi bien que la précédente ?\n",
    "3. Est ce que le nouveau test diagnostique améliore la sensibilité (capacité à donner un résultat positif à une personne réellement malade ?\n",
    "- Lors d’une étude épidémiologique, les questions qui suivent sont posées :\n",
    "1. Est ce que l’exposition à un facteur a un effet sur la survenue de la maladie ?\n",
    "2. Est il possible de prédire le risque de survenue de la maladie à la suite d’une exposition à ce facteur ?\n",
    "3. Etudier l’impact d’un traitement sur le décès à 30 jours de patients, toutes choses égales par ailleurs.\n",
    "- Lors de l’évaluation de la qualité et du contrôle d’une ligne de production\n",
    "- Lors de l’évaluation des moyens et de l’état de santé d’une population : causes de décès, morbidité, surveillance sanitaire....\n",
    "\n",
    "En conclusion, en biologie ou en santé, les domaines d’application sont très vastes : essais\n",
    "cliniques randomisées, études épidémiologiques, dynamiques des populations, études omiques\n",
    "(génomique, protéomique, transcriptomique...), lignes de production .... Ces études représentent\n",
    "une masse de données considérable à traiter. Il est donc loin le temps où les calculs statistiques\n",
    "étaient fait à la main, sur de petits échantillons. Il est nécessaire pour traiter les données d’utiliser\n",
    "des logiciels informatiques. Ce qu’il est important de retenir pour cet UE, c’est qu’il est très\n",
    "complet dans la mesure où pour analyser et interpréter une étude médicale, il faut :\n",
    "- maitriser les connaissances médicales pour comprendre les données et interpréter les résultats \n",
    "- comprendre les principes des différentes méthodes statistiques pour savoir laquelle utiliser en fonction des échantillons et des questions qui sont posées\n",
    "- maitriser un minimum l’outil informatique car les données à traiter deviennent tellement importantes qu’il est illusoire de vouloir faire les calculs à la main.\n",
    "\n",
    "\n",
    "## 2. Présentation des données\n",
    "\n",
    "\n",
    "**Objectif de la séance**\n",
    "\n",
    "**À partir d’un jeu de données proposé et de la problématique biologique soulevée, il s’agit de\n",
    "décrire l’échantillon, étape primordiale avant toute analyse statistique et qui permettra de vous\n",
    "initier au langage R.**\n",
    "\n",
    "\n",
    "\n",
    "Un clinicien évalue l’intensité de la dépression sur l’échelle de Hamilton qui varie de 0 (non\n",
    "déprimé) à 56 (très déprimé), chez 100 patients sou\u000b",
    "rant d’un Episode Dépressif Majeur (EDM).\n",
    "On veut savoir si l’acupuncture améliore l’évolution de la dépression. Pour cela, 100 malades\n",
    "de même état dépressif (même score de Hamilton) sont répartis en 2 groupes de 50 par tirage\n",
    "au sort. Le groupe I a reçu uniquement le traitement pharmacologique et le groupe II a reçu le\n",
    "traitement pharmacologique associé à de l’acuponcture.\n",
    "Le jeux de données contient les variables suivantes :\n",
    "- Hamilton_G1 : Les scores de Hamilton, après 8 mois de traitement pour le groupe 1\n",
    "- Hamilton_G2 : Les scores de Hamilton, après 8 mois de traitement pour le groupe 2\n",
    "- Age_G1 : l’âge des patients du groupe 1\n",
    "- Age_G2 : l’âge des patients du groupe 2\n",
    "- poids_G1 : le poids des patients du groupe 1\n",
    "- poids_G2 : le poids des patients du groupe 2\n",
    "- sexe_G1 : le sexe des patients du groupe 1\n",
    "- sexe_G2 : le sexe des patients du groupe 2\n",
    "- Urbanisation_G1 : le niveau d’urbanisation dans lequel vivent les patients du groupe 1 (A : rural, B : urbanisation modéré, C : fortement urbanisé)\n",
    "- Urbanisation_G2 : le niveau d’urbanisation dans lequel vivent les patients du groupe 2 (A : rural, B : urbanisation modéré, C : fortement urbanisé)\n",
    "\n",
    "Les données sont contenues dans le fichier texte : *data_Depression.txt*\n",
    "\n",
    "La lecture des données se fait à partir de la fonction *read.table* de *R* :\n"
   ]
  },
  {
   "cell_type": "markdown",
   "id": "cc68ed24",
   "metadata": {},
   "source": [
    "Afin de faire exécuter votre instruction, il suffit de cliquer sur la touche **Exécuter** ou de faire \"ctrl+entrée\""
   ]
  },
  {
   "cell_type": "code",
   "execution_count": 1,
   "id": "8b6ad5ac",
   "metadata": {},
   "outputs": [],
   "source": [
    "# Lire le fichier de données\n"
   ]
  },
  {
   "cell_type": "markdown",
   "id": "0b18ec18",
   "metadata": {},
   "source": [
    "Une table peut contenir plusieurs milliers de lignes tout afficher peut donc être inutil.\n",
    "\n",
    "La fonction `head()` permet d'afficher les premières lignes d'une table."
   ]
  },
  {
   "cell_type": "code",
   "execution_count": 2,
   "id": "64cbeda2",
   "metadata": {},
   "outputs": [],
   "source": [
    "# Afficher le début du contenu du fichier de données\n"
   ]
  },
  {
   "cell_type": "markdown",
   "id": "476d7226",
   "metadata": {},
   "source": [
    "En **R**, un ensemble à une dimension s'appelle un vecteur, par exemple une colonne d'une table est un vecteur. "
   ]
  },
  {
   "cell_type": "code",
   "execution_count": 3,
   "id": "a8115cd5",
   "metadata": {},
   "outputs": [],
   "source": [
    "# Afficher le contenu de la colonne Hamilton_G1\n",
    "# Remarque : pour avoir accès aux colonnes, il faut préciser le nom du fichier\n"
   ]
  },
  {
   "cell_type": "markdown",
   "id": "5956cbc0",
   "metadata": {},
   "source": [
    "## 3. Statistique descriptive\n",
    "\n",
    "La statistique descriptive est la première étape primordiale lors d’une analyse statistique,\n",
    "cette étape va permet bien évidemment de résumer ou représenter les données observées, avec\n",
    "le moins de mots, chiffres ou graphiques possible, grâce à des outils statistiques simples tels que\n",
    "la moyenne, la médiane, la variance, les quantiles, le maximum, le minimum....\n",
    "Elle permet également de vérifier si il n’y a pas de valeurs erronées, de problèmes d’échantillonnage.\n",
    "\n",
    "Elle a aussi un rôle de suggestion d’hypothèses pour des études plus approfondies ou encore de vérification de condition d’application pour les tests statistiques de l’étude infférentielle qui\n",
    "suivra.\n",
    "\n",
    "#### 3.1 Les variables aléatoires\n",
    "\n",
    "Les variables du jeu de données peuvent prendre un certain nombre de valeurs sans que\n",
    "celles-ci ne puissent être prévues à priori, c’est pour cela qu’elle se nomme variable aléatoire. Il\n",
    "existe deux types de variables aléatoires :\n",
    "- Variable qualitative : modalité non mesurable, par exemple la couleur des yeux, le sexe,\n",
    "le groupe sanguin...\n",
    "- Variable quantitative : modalité mesurable, par exemple la taille, le taux d’hormones,...\n",
    "\n",
    "Une variable aléatoire est dite discrète si elle prend que des valeurs discontinues dans un\n",
    "intervalle donné, comme par exemple le nombre d’enfants dans une famille, le nombre de fumeurs...\n",
    "\n",
    "Une variable aléatoire est dite continue si elle prend toutes les valeurs dans un intervalle donné,\n",
    "comme par exemple : la taille, le poids...\n",
    "\n",
    "Dans notre exemple de cours, les variables Hamilton, Age, Poids sont des variables quantitatives\n",
    "alors que les variables Sexe et Urbanisation sont des variables qualitatives.\n",
    "\n",
    "#### 3.2 Paramètres les plus couramment utilisés en statistique descriptive\n",
    "\n",
    "Lors de la description d’un jeu de données, deux types de paramètres doivent être utilisés\n",
    "pour décrire les variables quantitatives : les paramètres de position et les paramètres de dispersion.\n",
    "\n",
    "**Les paramètres de position**\n",
    "\n",
    "1. la **moyenne** : c’est la somme pondérée des valeurs mesurées \n",
    "2. la **médiane** : c’est la valeur qui scinde l’échantillon en deux de telle sorte que 50% desobservations sont supérieures à cette valeur et 50% des observations lui sont inférieures.\n",
    "\n",
    "Comparaison de ces deux indicateurs :\n",
    "\n",
    "1. la **moyenne** : c’est l’indicateur familier, intuitif et facile à calculer. Son point faible : il n’est pas robuste (il est très sensible au changement d’une ou plusieurs observations, aux valeurs extrêmes...)\n",
    "2. la **médiane** : c’est un indicateur à fois précis et robuste (il est peu sensible à la modification d’une ou plusieurs observations ou valeurs extrêmes..)\n",
    "\n",
    "Remarque : tout au long des TDs vous trouverez dans les encadrés les instructions en langage R pour réaliser les analyses statistiques.\n",
    "\n",
    "*Application au jeu de données sur le score de Hamilton :*"
   ]
  },
  {
   "cell_type": "code",
   "execution_count": 4,
   "id": "28d77dcc",
   "metadata": {},
   "outputs": [],
   "source": [
    "# Traitement pharmacologique\n",
    "# Moyenne de la variable Hamilton_G1\n",
    "\n",
    "\n",
    "\n",
    "# Médiane de la variable Hamilton_G1\n",
    "\n"
   ]
  },
  {
   "cell_type": "markdown",
   "id": "a8ef6281",
   "metadata": {},
   "source": [
    "*Application* : calculer les moyennes et médianes des variables Hamilton_G2, Age_G1, Age_G2"
   ]
  },
  {
   "cell_type": "code",
   "execution_count": null,
   "id": "d1d0ca10",
   "metadata": {},
   "outputs": [],
   "source": []
  },
  {
   "cell_type": "markdown",
   "id": "d0a44613",
   "metadata": {},
   "source": [
    "**Commentez**"
   ]
  },
  {
   "cell_type": "markdown",
   "id": "1a55e3cf",
   "metadata": {},
   "source": [
    "Il est important de vérifier la dispersion des données car même si la la différence de moyenne entre les deux groupes peut sembler importante, deux cas de figures se présentent :\n",
    "- si l’écart-type pour les deux groupes est également grand alors cette différence s’amenuise, les données se chevauchent\n",
    "- si l’écart-type est faible alors les deux groupes ont des données bien distinctes et la différence entre les deux groupes apparait clairement. \n",
    "\n",
    "<img src=\"Figures/Fig_dispersion.jpg\" />\n",
    "\n",
    "**Les paramètres de dispersion**\n",
    "\n",
    "Ils fixent la variabilité des mesures par rapport à un paramètre de position.\n",
    "\n",
    "1. la variance : c’est l’écart par rapport à la moyenne, l'écart-type correspond à la racine de la variance\n",
    "2. l’amplitude : c’est l’écart entre la plus grande et la plus petite valeur observée dans l’échantillon.\n",
    "3. l’intervalle inter-quartile : c’est la plage de valeurs délimitée par le 1er quartile et le 3ème quartile (respectivement Q1 et Q3). Il contient 50% des observations : 25% de part et d’autre de la médiane. Les quartiles sont définis sur le même principe que la médiane (aussi nommé 2ème quartile).\n",
    "**Q1** : c’est la valeur qui scinde l’échantillon en deux de telle sorte que 75% des observations\n",
    "sont supérieures à cette valeur et 25% des observations lui sont inférieures.\n",
    "\n",
    "**Q3** : c’est la valeur qui scinde l’échantillon en deux de telle sorte que 25% des observations\n",
    "sont supérieures à cette valeur et 75% des observations lui sont inférieures.\n",
    "Comparaison de ces trois indicateurs :\n",
    "1. l’écart-type : c’est un indicateur peu robuste, mais facile à calculer et récurrent dans les statistiques inférentielles\n",
    "2. l’intervalle inter-quartile : c’est un indicateur robuste au même titre que les valeurs qui le caractérisent (quartiles).\n",
    "3. l’amplitude : facile à calculer, mais très sensible aux valeurs aberrantes (qui sont des valeurs extrêmes en général).\n",
    "\n",
    "*Application au jeu de données sur le score de Hamilton :*"
   ]
  },
  {
   "cell_type": "code",
   "execution_count": 5,
   "id": "74893d31",
   "metadata": {},
   "outputs": [],
   "source": [
    "# Moyenne de la variable Hamilton_G1\n",
    "\n",
    "\n",
    "# Médiane de la variable Hamilton_G1\n",
    "\n",
    "\n",
    "# Ecart-type de la variable Hamilton_G1\n",
    "\n",
    "\n",
    "# Résumé statitistique de la variable Hamilton_G1\n"
   ]
  },
  {
   "cell_type": "markdown",
   "id": "11f7debc",
   "metadata": {},
   "source": [
    "Calculer la moyenne, la médiane, l'écart-type et le résumé statistique de la variable Hamilton_G2 et comparer aux résultats obtenus pour la variable Hamilton_G1"
   ]
  },
  {
   "cell_type": "code",
   "execution_count": null,
   "id": "793cce73",
   "metadata": {},
   "outputs": [],
   "source": []
  },
  {
   "cell_type": "markdown",
   "id": "be3cc9f8",
   "metadata": {},
   "source": [
    "**En conclusion** : "
   ]
  },
  {
   "cell_type": "markdown",
   "id": "6dbe3abf",
   "metadata": {},
   "source": [
    "#### 3.3 Représentation des variables quantitatives\n",
    "\n",
    "**L'histogramme**\n",
    "\n",
    "L’histogramme est un moyen rapide pour étudier la répartition d’une variable.\n",
    "Cependant, il faut faire attention car la forme de l’histogramme change en fonction de l’amplitude\n",
    "des classes, il faut tester plusieurs pas, c’est-à-dire, plusieurs découpages différents.\n",
    "\n",
    "P.Besse : « La qualité de l’estimation d’une distribution par un histogramme dépend beaucoup\n",
    "du découpage en classes. Malheureusement, plutôt que de fournir des classes d’effectifs égaux\n",
    "et donc de mieux répartir l’imprécision, les logiciels utilisent des classes d’amplitudes égales et\n",
    "tracent donc des histogrammes parfois peu représentatifs. »\n",
    "\n",
    "*Application au jeu de données sur le score de Hamilton :*"
   ]
  },
  {
   "cell_type": "code",
   "execution_count": 6,
   "id": "74ac07ce",
   "metadata": {},
   "outputs": [],
   "source": [
    "# tracer de l'histogramme représentant la variable Hamilton_G1\n"
   ]
  },
  {
   "cell_type": "markdown",
   "id": "3bf91f12",
   "metadata": {},
   "source": [
    "*Tracer l'histogramme de la variable Hamilton_G2 et comparer avec l'histogramme de la variable Hamilton_G1*"
   ]
  },
  {
   "cell_type": "code",
   "execution_count": null,
   "id": "5d2ba513",
   "metadata": {},
   "outputs": [],
   "source": []
  },
  {
   "cell_type": "markdown",
   "id": "dbd2df3f",
   "metadata": {},
   "source": [
    "**Commentez :** "
   ]
  },
  {
   "cell_type": "markdown",
   "id": "bee92475",
   "metadata": {},
   "source": [
    "On peut choisir le nombre de classes de l’histogramme, ce qui permet d’augmenter (ou de réduire)\n",
    "la précision du graphique."
   ]
  },
  {
   "cell_type": "markdown",
   "id": "4f2c6fbc",
   "metadata": {},
   "source": [
    "Retracer l'histogramme de la variable Hamilton_G2 avec n=15"
   ]
  },
  {
   "cell_type": "code",
   "execution_count": 7,
   "id": "c9feb21f",
   "metadata": {},
   "outputs": [],
   "source": [
    "# tracer de l'histogramme représentant la variable Hamilton_G1, en choisissant 15 classes grâce à l'argument n=15\n"
   ]
  },
  {
   "cell_type": "markdown",
   "id": "d6d5f919",
   "metadata": {},
   "source": [
    "**Commentez :** "
   ]
  },
  {
   "cell_type": "markdown",
   "id": "5073ef27",
   "metadata": {},
   "source": [
    "**Le boxplot**\n",
    "\n",
    "Ce graphique tout simple permet de résumer une variable de manière rapide et visuel, d’identifier\n",
    "les valeurs extrêmes, de comprendre la répartition des observations (dispersion, symétrie...)\n",
    "d’une variable ou encore de comparer la répartition des données d’une même variable entre plusieurs\n",
    "échantillons.\n",
    "\n",
    "- La valeur centrale du graphique est la médiane (il existe autant de valeur supérieures qu’inférieures à cette valeur dans l’échantillon).\n",
    "- Les bords du rectangle sont les quartiles (Pour le bord inférieur, un quart des observations ont des valeurs plus petites et trois quart ont des valeurs plus grandes, le bord supérieur suit le même raisonnement).\n",
    "- Les extrémités des moustaches sont calculées en utilisant 1.5 fois l’espace interquartile (la distance entre le 1er et le 3ème quartile).\n",
    "On peut remarquer que 50% des observations se trouvent à l’intérieur de la boîte.\n",
    "\n",
    "Les valeurs à l’extérieur des moustaches sont représentées par des points. Ces valeurs peuvent\n",
    "être décrites comme extrêmes par rapport aux autres valeurs de l’échantillon. Toutefois, il ne\n",
    "faut pas faire de raccourci rapide et en déduire que se sont forcément des valeurs aberrantes. Par contre, cela indique qu’il faut étudier plus en détail ces observations.\n",
    "\n",
    "*Application au jeu de données sur le score de Hamilton :*"
   ]
  },
  {
   "cell_type": "code",
   "execution_count": 8,
   "id": "000a6265",
   "metadata": {},
   "outputs": [],
   "source": [
    "# Tracer le boxplot du Score de Hamilton du groupe G1"
   ]
  },
  {
   "cell_type": "markdown",
   "id": "a7c34d45",
   "metadata": {},
   "source": [
    "*Tracer le boxplot de la variable Hamilton_G2*"
   ]
  },
  {
   "cell_type": "code",
   "execution_count": null,
   "id": "017ceb08",
   "metadata": {},
   "outputs": [],
   "source": []
  },
  {
   "cell_type": "markdown",
   "id": "aa2dd54c",
   "metadata": {},
   "source": [
    "**Commentez**"
   ]
  },
  {
   "cell_type": "markdown",
   "id": "e1089ce5",
   "metadata": {},
   "source": [
    "#### 3.4 Représentation des variables qualitatives\n",
    "\n",
    "La description d’une variable qualitative passe par la présentation de ces effectifs par classes.\n",
    "Cette étape est très importante car elle va permettre de vérifier la répartition des effectifs entre les classes. Ainsi, si une variable possède des effectifs très déséquilibrés entre ces classes, il faudra\n",
    "en tenir compte dans les tests à venir et parfois il sera nécessaire de procéder à des regroupements\n",
    "entre classes afin d’éviter des biais statistiques.\n",
    "\n",
    "*Application au jeu de données sur la variable Urbanisation_G1 :*"
   ]
  },
  {
   "cell_type": "code",
   "execution_count": 9,
   "id": "5fe256a4",
   "metadata": {},
   "outputs": [],
   "source": [
    "# la fonction table compte les effectifs des modalités de la variable\n",
    "\n",
    "# afficher le résultat\n"
   ]
  },
  {
   "cell_type": "markdown",
   "id": "626ccfff",
   "metadata": {},
   "source": [
    "*Calculer les effectifs de la variable Urbanisation_G2 et commentez les résultats*"
   ]
  },
  {
   "cell_type": "code",
   "execution_count": null,
   "id": "96a963d3",
   "metadata": {},
   "outputs": [],
   "source": []
  },
  {
   "cell_type": "markdown",
   "id": "80997936",
   "metadata": {},
   "source": [
    "**Commentez**"
   ]
  },
  {
   "cell_type": "markdown",
   "id": "1bd7ab0f",
   "metadata": {},
   "source": [
    "**Les barplots**\n",
    "\n",
    "La hauteur des barres correspond soit à la fréquence d’observation de chacune des modalités\n",
    "soit à l’effectif de la variable considérée. Contrairement aux histogrammes, les bâtons des diagrammes\n",
    "en barre sont bien séparés pour mettre l’accent sur le caractère discret des observations\n",
    "(par opposition à la contiguité des barres d’un histogramme qui fait écho à la nature continue de\n",
    "la variable).\n",
    "\n",
    "*Application au jeu de données sur la variable Urbanisation_G1 :*"
   ]
  },
  {
   "cell_type": "code",
   "execution_count": 10,
   "id": "31311406",
   "metadata": {},
   "outputs": [],
   "source": [
    "# Tracer le barplot représentant la variable Urbanisation_G1"
   ]
  },
  {
   "cell_type": "markdown",
   "id": "41b24d09",
   "metadata": {},
   "source": [
    "Tracer le barplot représentant les effectifs de la variable Urbanisation_G2 et commentez "
   ]
  },
  {
   "cell_type": "code",
   "execution_count": null,
   "id": "6030b71d",
   "metadata": {},
   "outputs": [],
   "source": []
  },
  {
   "cell_type": "markdown",
   "id": "611dcc17",
   "metadata": {},
   "source": [
    "**Commentez :**"
   ]
  },
  {
   "cell_type": "markdown",
   "id": "3e033a52",
   "metadata": {},
   "source": [
    "**Les camemberts**\n",
    "\n",
    "Le camembert permet de représenter les différentes modalités par secteurs angulaires proportionnels\n",
    "aux fréquences observées.\n",
    "Les représentations en camembert sont à utiliser avec modération c’est à dire uniquement lorsqu’il\n",
    "y a peu de modalités à représenter. Le problème vient du fait que les proportions ne sont\n",
    "pas très visibles avec des camemberts.\n",
    "\n",
    "*Application au jeu de données sur la variable Urbanisation_G1 :*"
   ]
  },
  {
   "cell_type": "code",
   "execution_count": 11,
   "id": "e567aa26",
   "metadata": {
    "scrolled": true
   },
   "outputs": [],
   "source": [
    "# Tracer le camembert représentant la variable Urbanisation_G1"
   ]
  },
  {
   "cell_type": "markdown",
   "id": "3e29feca",
   "metadata": {},
   "source": [
    "Tracer le camembert représentant les effectifs de la variable Urbanisation_G2 et commenter "
   ]
  },
  {
   "cell_type": "code",
   "execution_count": null,
   "id": "cd9103d7",
   "metadata": {},
   "outputs": [],
   "source": []
  },
  {
   "cell_type": "markdown",
   "id": "fae68b53",
   "metadata": {},
   "source": [
    "**Commentez**"
   ]
  },
  {
   "cell_type": "markdown",
   "id": "8570b674",
   "metadata": {},
   "source": [
    "## 4. Manipulation de données\n",
    "\n",
    "\n",
    "### 4.1 Extraction d'une valeur d'un tableau\n",
    "\n",
    "Il est possible avec **R** d’extraire des valeurs particulières d’un tableau (*data.frame*). Pour cela, il faut être conscient qu’un tableau est composé de lignes et de colonnes, chaque\n",
    "valeur du tableau a donc un numéro de ligne *i* et un numéro de colonne *j*. \n",
    "\n",
    "Pour extraire une valeur particulière du tableau, il suffit de préciser à **R** son numéro de ligne et de colonne. Par\n",
    "exemple, nous allons extraire la valeur de la ligne 2 en colonne 3 :"
   ]
  },
  {
   "cell_type": "code",
   "execution_count": null,
   "id": "cdee06ec",
   "metadata": {},
   "outputs": [],
   "source": []
  },
  {
   "cell_type": "markdown",
   "id": "74c2cb3f",
   "metadata": {},
   "source": [
    "* Entrainement : Extraire la valeur du tableau qui se situe en ligne 15 et colonne 4 :*"
   ]
  },
  {
   "cell_type": "code",
   "execution_count": null,
   "id": "d8429d4f",
   "metadata": {},
   "outputs": [],
   "source": []
  },
  {
   "cell_type": "markdown",
   "id": "7a79400c",
   "metadata": {},
   "source": [
    "Avant d'aller plus loin dans les extractions de sous tableaux, il est important de bien faire la différence entre **=** et le **==**\n",
    "\n",
    "Lorsque l’on met un **=** nous attribuons une valeur, par exemple ici nous allons attribuer la\n",
    "valeur 4 à toto :"
   ]
  },
  {
   "cell_type": "code",
   "execution_count": null,
   "id": "3436295d",
   "metadata": {},
   "outputs": [],
   "source": []
  },
  {
   "cell_type": "markdown",
   "id": "1d0f3bef",
   "metadata": {},
   "source": [
    "Lorsque nous mettons un **==**, nous réalisons un test.\n",
    "\n",
    "Par exemple on peut tester si toto est égale à 9"
   ]
  },
  {
   "cell_type": "code",
   "execution_count": null,
   "id": "2cab6f39",
   "metadata": {},
   "outputs": [],
   "source": []
  },
  {
   "cell_type": "markdown",
   "id": "d57807d3",
   "metadata": {},
   "source": [
    "**R** nous répond faux."
   ]
  },
  {
   "cell_type": "markdown",
   "id": "5f0fa9be",
   "metadata": {},
   "source": [
    "**Remarque** : Pour tester si une valeur est différente il faut utiliser **!=**.\n",
    "\n",
    "On peut par exemple tester si toto est $\\neq$ 9 "
   ]
  },
  {
   "cell_type": "code",
   "execution_count": null,
   "id": "78fe8e8d",
   "metadata": {},
   "outputs": [],
   "source": []
  },
  {
   "cell_type": "markdown",
   "id": "6359d6d3",
   "metadata": {},
   "source": [
    "**R** nous répond vrai."
   ]
  },
  {
   "cell_type": "markdown",
   "id": "14c88591",
   "metadata": {},
   "source": [
    "### 4.2 Extraction de sous tableau en fonction de conditions\n",
    "\n",
    "**i) Sélection de données au sein d'une colonne** \n",
    "\n",
    "Il est également possible d’extraire des sous groupes de données au sein d'une colonne. Par exemple, à partir de\n",
    "notre tableau de données, nous pouvons extraire parmi la colonne scores de Hamilton du groupe G1, uniquement\n",
    "le score des hommes. \n",
    "Nous appellerons ce nouveau groupe : hamilton_G1_homme.\n",
    "\n",
    "Le principe est le suivant :\n",
    "- on sélectionne la colonne qui nous intéresse, ici il s’agit de Hamilton_G1\n",
    "- Seul le score des hommes nous intéresse, il est donc nécessaire de préciser à **R** qu'au sein de cette colonne, nous ne garderons que les lignes correspondantes aux hommes"
   ]
  },
  {
   "cell_type": "code",
   "execution_count": null,
   "id": "830a677e",
   "metadata": {},
   "outputs": [],
   "source": []
  },
  {
   "cell_type": "markdown",
   "id": "32e90e0d",
   "metadata": {},
   "source": [
    "*Entraînement : Extraire le score de Hamilton du groupe G2 qui se situe dans une\n",
    "zone urbanisée A*"
   ]
  },
  {
   "cell_type": "code",
   "execution_count": null,
   "id": "cfe185bc",
   "metadata": {},
   "outputs": [],
   "source": []
  },
  {
   "cell_type": "markdown",
   "id": "b3c59db2",
   "metadata": {},
   "source": [
    "**ii) Sélection d'un sous tableau** \n",
    "\n",
    "Il est également possible d’extraire un sous tableau de données. Nous allons par exemple\n",
    "extraire le tableau de données qui est associé aux données du groupe G1, nous l’appellerons\n",
    "data_G1. \n",
    "\n",
    "Le principe est le suivant :\n",
    "- Repérer les colonnes qui sont associées aux groupes G1 : 1, 3, 5, 7 et 9.\n",
    "- Ensuite nous voulons récupérer toutes les lignes"
   ]
  },
  {
   "cell_type": "code",
   "execution_count": null,
   "id": "1ee231c7",
   "metadata": {},
   "outputs": [],
   "source": []
  },
  {
   "cell_type": "markdown",
   "id": "1d4cbc1c",
   "metadata": {},
   "source": [
    "*Application* : Extraire un nouveau tableau nommé data_G2, qui contient uniquement les colonnes associées au groupe G2"
   ]
  },
  {
   "cell_type": "code",
   "execution_count": null,
   "id": "7d2673b7",
   "metadata": {},
   "outputs": [],
   "source": []
  },
  {
   "cell_type": "markdown",
   "id": "361c784e",
   "metadata": {},
   "source": [
    "*Exemple d’application* : A partir du tableau data_G1, nous allons sélectionner un nouveau\n",
    "tableau qui ne contient que le résultat des femmes. Le principe est le suivant :\n",
    "- Nous ne gardons que les lignes où la valeur \"F\" apparaît dans la colonne sexe_G1 \n",
    "- Puis nous gardons l'ensemble des colonnes"
   ]
  },
  {
   "cell_type": "code",
   "execution_count": 12,
   "id": "086412aa",
   "metadata": {},
   "outputs": [],
   "source": [
    "# Créer le sous tableau que l'on nommera data_G1_femme \n",
    "\n",
    "\n",
    "# affiche les premières lignes d'un tableau de données"
   ]
  },
  {
   "cell_type": "markdown",
   "id": "c79b671d",
   "metadata": {},
   "source": [
    "Extraire une tableau data_G2_femme qui ne contient que les informations concernant les femmes du groupes G2"
   ]
  },
  {
   "cell_type": "code",
   "execution_count": null,
   "id": "9320fa56",
   "metadata": {},
   "outputs": [],
   "source": []
  },
  {
   "cell_type": "markdown",
   "id": "7ea00bcb",
   "metadata": {},
   "source": [
    "**Remarque** : Il est possible de combiner plusieurs conditions lorsque l'on extrait des données d'un tableau grâce aux intructions :\n",
    "- **&** qui signifie \"et\" : par exemple on veut extraire du tableau les données concernant les femmes de plus de 40 ans (ce qui se traduit par  \"être une femme et avoir plus de 40 ans\")\n",
    "- **|** qui signifie \"ou\" : par exemple on veut extraire du tableau les données concernant soit les femmes soit les personnes de plus de 40 ans, la différence avec le tableau précédent est qu'il sera possible dans ce tableau d'avoir également des hommes de plus de 40 ans\n",
    "\n",
    "*Appliquer ces deux conditions au tableau data_G1*"
   ]
  },
  {
   "cell_type": "code",
   "execution_count": null,
   "id": "d5da2d47",
   "metadata": {},
   "outputs": [],
   "source": []
  },
  {
   "cell_type": "markdown",
   "id": "d1bec176",
   "metadata": {},
   "source": [
    "*Appliquer ces deux conditions au tableau data_G2*"
   ]
  },
  {
   "cell_type": "code",
   "execution_count": null,
   "id": "8260540a",
   "metadata": {},
   "outputs": [],
   "source": []
  },
  {
   "cell_type": "markdown",
   "id": "d87ba63f",
   "metadata": {},
   "source": [
    "*Application :*\n",
    "- Construire un tableau nommé tab1 qui sélectionne les femmes et la classe Urbanisation \"A\" \n",
    "- Construire un tableau nommé tab2 qui sélectionne les femmes ou la classe Urbanisation \"A\" "
   ]
  },
  {
   "cell_type": "code",
   "execution_count": null,
   "id": "2c5528c5",
   "metadata": {},
   "outputs": [],
   "source": []
  },
  {
   "cell_type": "markdown",
   "id": "8ca880fd",
   "metadata": {},
   "source": [
    "La fonction `which()` permet de connaître les lignes des individus respectant les conditions que vous avez choisies. \n",
    "\n",
    "*Afficher les lignes des femmes de moins de 40 ans pour le tableau data_G1.*"
   ]
  },
  {
   "cell_type": "code",
   "execution_count": null,
   "id": "5e6532ac",
   "metadata": {},
   "outputs": [],
   "source": []
  },
  {
   "cell_type": "markdown",
   "id": "0925de79",
   "metadata": {},
   "source": [
    "*Afficher les lignes des hommes de plus de 40 ans pour le tableau data_G2.*"
   ]
  },
  {
   "cell_type": "code",
   "execution_count": null,
   "id": "58e3848c",
   "metadata": {},
   "outputs": [],
   "source": []
  },
  {
   "cell_type": "markdown",
   "id": "11451bf0",
   "metadata": {},
   "source": [
    "**iii) Sélectionner des lignes ou colonnes dans un tableau en utilisant leur index** \n",
    "\n",
    "Sans utiliser une condition, il est possible de sélectionner ou de retirer des lignes en utilisant leur index. Comme nous l'avons vu précédemment cela se fait en utilisant nom_du_tableau[,]. Avant la virgule vous sélectionnez les lignes, après la virgule vous sélectionnez les colonnes. Par exemple data_G1[1,2] sélectionne la ligne 1 et la colonne 2 de la table data_G1.\n",
    "\n",
    "Si vous souhaitez sélectionner plusieurs lignes ou colonnes il faut utiliser `c()` par exemple data_G1[c(1,2,3,4,5),c(2,4)] sélectionne les lignes 1 à 5 et les colonnes 2 et 4.\n",
    "\n",
    "*Remarque 1*: Il est possible de simplifier c(1,2,3,4,5) en c(1:5). L'opérateur : signifiant de x à y.\n",
    "\n",
    "*Remarque 2*: Il est possible pour les colonnes uniquement d'utiliser leur nom par exemple vous auriez pu écrire data_G1[c(1:5),c(\"Urbanisation_G1\",\"poids_G1\")]\n",
    "\n",
    "En utilisant ce qui vous a été présenté, sélectionnez à partir de leur indice les lignes des femmes de moins de 40 ans pour le tableau data_G1 et les colonnes Hamilton_G1 et Age_G1"
   ]
  },
  {
   "cell_type": "code",
   "execution_count": 13,
   "id": "4a5d5e1d",
   "metadata": {},
   "outputs": [],
   "source": [
    "# Possibilité 1 :\n",
    "\n",
    "# Possibilité 2 : "
   ]
  },
  {
   "cell_type": "markdown",
   "id": "cefbd085",
   "metadata": {},
   "source": [
    "Il est possible de faire l'opposé d'une condition, transformer les vrais en faux et inversement en utilisant un **!** avant la condition.\n",
    "\n",
    "*Afficher le tableau data_G1 sans les hommes*"
   ]
  },
  {
   "cell_type": "code",
   "execution_count": null,
   "id": "ecfa43de",
   "metadata": {},
   "outputs": [],
   "source": []
  },
  {
   "cell_type": "markdown",
   "id": "ad774edb",
   "metadata": {},
   "source": [
    "Nous avons déjà vu comment créer des vecteurs, et qu'une colonne d'une table était un vecteur.\n",
    "\n",
    "*En utilisant ce que vous avez vu, récupérez la colonne \"Age_G1\" et retirez-en les femmes*"
   ]
  },
  {
   "cell_type": "code",
   "execution_count": null,
   "id": "29511c3e",
   "metadata": {},
   "outputs": [],
   "source": []
  },
  {
   "cell_type": "markdown",
   "id": "9c2486de",
   "metadata": {},
   "source": [
    "## 5. Exercices application\n",
    "\n",
    "### 5.1 Extraction des données\n",
    "\n",
    "A partir des données data_Depression :\n",
    "1. Extraire le tableau de données des hommes du groupes G1 que l’on nommera data_G1_homme \n",
    "2. Extraire le tableau de données des hommes du groupes G2 que l’on nommera data_G2_homme\n",
    "\n",
    "\n"
   ]
  },
  {
   "cell_type": "code",
   "execution_count": null,
   "id": "40f3ff12",
   "metadata": {},
   "outputs": [],
   "source": []
  },
  {
   "cell_type": "markdown",
   "id": "741f5fd9",
   "metadata": {},
   "source": [
    "\n",
    "### 5.2 Etude comparative des scores de Hamilton des hommes entre les deux groupes G1 et G2\n",
    "\n",
    "A partir de ces deux tableaux de données, réaliser une étude descriptive comparative en répondant aux questions suivantes :\n",
    "\n",
    "1. Comparer les moyennes et variances empiriques des scores de Hamilton des hommes dans les deux tableaux\n",
    "2. Comparer les médianes et quartiles empiriques des âges des hommes dans les deux tableaux\n",
    "\n",
    "\n",
    "\n"
   ]
  },
  {
   "cell_type": "code",
   "execution_count": null,
   "id": "6f5f5725",
   "metadata": {},
   "outputs": [],
   "source": []
  },
  {
   "cell_type": "markdown",
   "id": "7913b6ee",
   "metadata": {},
   "source": [
    "Quelles hypothèses pouvez-vous émettre ?"
   ]
  },
  {
   "cell_type": "markdown",
   "id": "6dfbe943",
   "metadata": {},
   "source": []
  },
  {
   "cell_type": "markdown",
   "id": "8fca89e3",
   "metadata": {},
   "source": [
    "### 5.3 Comparaison du score de Hamilton des hommes en fonction de l'urbanisation de leur lieu de résidence\n",
    "\n",
    "\n",
    "1. Représenter graphiquement le score de Hamilton des hommes du groupe G1 qui habitent dans des régions urbanisée de type A\n",
    "2. Représenter graphiquement le score de Hamilton des hommes du groupe G1 qui habitent dans des régions urbanisée de type B\n",
    "3. Représenter graphiquement le score de Hamilton des hommes du groupe G2 qui habitent dans des régions urbanisée de type A\n",
    "4. Représenter graphiquement le score de Hamilton des hommes du groupe G2 qui habitent dans des régions urbanisée de type B.\n",
    "\n",
    "Quelles hypothèses pouvez-vous émettre suite à ces descriptions? "
   ]
  },
  {
   "cell_type": "code",
   "execution_count": null,
   "id": "30b97680",
   "metadata": {},
   "outputs": [],
   "source": []
  },
  {
   "cell_type": "markdown",
   "id": "cc9ad810",
   "metadata": {},
   "source": [
    "### 5.4 Manipulation de données \n",
    "\n",
    "1. Créer à partir du tableau data_G1 une table sans les femmes nommée tableau1\n",
    "2. Créer à partir du tableau data_G1 une table sans le patient le plus âgé nommée tableau2.\n",
    "3. Créer à partir du tableau data_G2 une table sans l'homme le plus lourd nommée tableau3.\n",
    "4. Créer à partir du tableau data_G1 une table sans les patients dont le score Hamilton est inférieur ou égal au troisième quartile nommée tableau4.\n",
    "5. Calculer la variance du score de Hamilton des femmes du groupe G2.\n",
    "6. Créer une nouvelle colonne dans la table G2 correspondant à l'âge moins le poids puis supprimez la.\n",
    "\n",
    "\n",
    "*Note pour créer une nouvelle colone il suffit d'utiliser nom_de_table$nom_de_nouvelle_colonne <- Valeur de la nouvelle colonne*"
   ]
  },
  {
   "cell_type": "code",
   "execution_count": null,
   "id": "07fc402c",
   "metadata": {},
   "outputs": [],
   "source": []
  }
 ],
 "metadata": {
  "kernelspec": {
   "display_name": "R",
   "language": "R",
   "name": "ir"
  },
  "language_info": {
   "codemirror_mode": "r",
   "file_extension": ".r",
   "mimetype": "text/x-r-source",
   "name": "R",
   "pygments_lexer": "r",
   "version": "4.1.1"
  }
 },
 "nbformat": 4,
 "nbformat_minor": 5
}
