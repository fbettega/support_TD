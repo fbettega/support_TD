{
 "cells": [
  {
   "cell_type": "markdown",
   "id": "52269d0a",
   "metadata": {},
   "source": [
    "# TD 7 : Entrainnement\n",
    "\n",
    "\n",
    "Christelle Gonindard, Margaux Leroy, François Bettega et Marie Darracq\n",
    "\n",
    "\n",
    "Attention, pour chaque test il est obligatoire de présenter les données, définir les hypothèses, les conditions d'application et de conclure. \n",
    "Préciser nous lorsque vous faites un Student si la statistique suit une loi Normale ou une loi de Student. \n",
    "\n",
    "\n",
    "## 1. Présentation des données\n",
    "\n",
    "\n",
    "\n",
    "\n",
    "Le fichier CREDIT_APPROVAL.txt  décrit 50 ménages, formés de couples mariés, tous deux actifs, qui ont déposé une demande de crédit auprès d’un établissement bancaire. Les variables disponibles sont les suivantes :\n",
    "\n",
    "- Sal.Homme \t\tLogarithme du salaire de l’homme\n",
    "- Sal.Femme \t\tLogarithme du salaire de la femme\n",
    "- Rev.Tete \t\tLogarithme du revenu par tête c.‐ à‐ d. total des revenus divisé par le nombre de personnes\n",
    "- Age \t\t\tLogarithme de l’âge de l’homme\n",
    "- Acceptation \t\tAccord du crédit par l’organisme prêteur\n",
    "- Garantie.Supp \tGarantie supplémentaire demandée par l’organisme prêteur\n",
    "- Emploi \t\tType d’emploi occupé par la personne de référence lors de la  demande de crédit\n",
    "\n",
    "Les variables quantitatives sont toutes potentiellement « variable d’intérêt » ; les variables catégorielles vont servir à définir les sous populations.\n"
   ]
  },
  {
   "cell_type": "markdown",
   "id": "c360ba14",
   "metadata": {},
   "source": [
    "# 2. Décrire les données"
   ]
  },
  {
   "cell_type": "code",
   "execution_count": null,
   "id": "99661362",
   "metadata": {},
   "outputs": [],
   "source": []
  },
  {
   "cell_type": "markdown",
   "id": "7e49afdf",
   "metadata": {},
   "source": [
    "\n",
    "# 3. Répondez aux questions suivantes :\n",
    "\n",
    "1. Calculer le salaire médian des hommes qui en CDI.\n"
   ]
  },
  {
   "cell_type": "code",
   "execution_count": null,
   "id": "2ff5f2f0",
   "metadata": {},
   "outputs": [],
   "source": []
  },
  {
   "cell_type": "markdown",
   "id": "e6f83d0f",
   "metadata": {},
   "source": [
    "2. Calculer la variance et l'écart-type de l'âge des hommes qui ont un prêt d'accepter.\n",
    "\n"
   ]
  },
  {
   "cell_type": "code",
   "execution_count": null,
   "id": "d20e7195",
   "metadata": {},
   "outputs": [],
   "source": []
  },
  {
   "cell_type": "markdown",
   "id": "18feaea6",
   "metadata": {},
   "source": [
    "3. Construire un nouveau tableau ne contenant pas les valeurs inférieures au premier quartile de l'âge.\n",
    "\n"
   ]
  },
  {
   "cell_type": "code",
   "execution_count": null,
   "id": "cf19f9af",
   "metadata": {},
   "outputs": [],
   "source": []
  },
  {
   "cell_type": "markdown",
   "id": "3ab10230",
   "metadata": {},
   "source": [
    "4. Calculer l'écart interquartile (Q3-Q1) du salaire des femmes qui sont en CDI.\n",
    "\n"
   ]
  },
  {
   "cell_type": "code",
   "execution_count": null,
   "id": "52780777",
   "metadata": {},
   "outputs": [],
   "source": []
  },
  {
   "cell_type": "markdown",
   "id": "d3eef68f",
   "metadata": {},
   "source": [
    "5. Calculer l'intervalle de confiance du salaire des femmes au seuil 98%.\n"
   ]
  },
  {
   "cell_type": "code",
   "execution_count": null,
   "id": "0ee2071c",
   "metadata": {},
   "outputs": [],
   "source": []
  },
  {
   "cell_type": "markdown",
   "id": "14abab31",
   "metadata": {},
   "source": [
    "# 4. Analyse des données\n",
    "\n",
    "1. Est ce que les femmes en CDI ont un salaire plus élevé que les femmes en CDD ?\n"
   ]
  },
  {
   "cell_type": "code",
   "execution_count": null,
   "id": "a90944a6",
   "metadata": {},
   "outputs": [],
   "source": []
  },
  {
   "cell_type": "markdown",
   "id": "2be01c60",
   "metadata": {},
   "source": [
    "2. Nous souhaitons savoir si dans un ménage, l’homme a tendance à avoir un salaire plus élevé que sa femme au seuil 1%.\n"
   ]
  },
  {
   "cell_type": "markdown",
   "id": "5dd4ba59",
   "metadata": {},
   "source": [
    "Il ne faut surtout pas mettre en oeuvre un test pour échantillons indépendants c.‐à‐d. comparer la moyenne du\n",
    "salaire des hommes avec la moyenne de celui des femmes. En effet, la confrontation doit se faire à l’intérieur\n",
    "des ménages. Nous sommes dans un schéma de test pour échantillons appariés.\n"
   ]
  },
  {
   "cell_type": "code",
   "execution_count": null,
   "id": "2a867135",
   "metadata": {},
   "outputs": [],
   "source": []
  },
  {
   "cell_type": "markdown",
   "id": "bcdcb2d1",
   "metadata": {},
   "source": [
    "# 5. Questions supplémentaires\n",
    "\n",
    "1. Comparer l’âge de l’homme dans le ménage selon l’acceptation ou non du crédit au seuil 5%."
   ]
  },
  {
   "cell_type": "code",
   "execution_count": null,
   "id": "ac861e5a",
   "metadata": {},
   "outputs": [],
   "source": []
  },
  {
   "cell_type": "markdown",
   "id": "34256a2d",
   "metadata": {},
   "source": [
    "2. Est ce que les hommes en CDI ont un salaire plus élevé que les hommes en CDD ?\n"
   ]
  },
  {
   "cell_type": "code",
   "execution_count": null,
   "id": "d1a5f03c",
   "metadata": {},
   "outputs": [],
   "source": []
  },
  {
   "cell_type": "markdown",
   "id": "8f9412fb",
   "metadata": {},
   "source": [
    "3. Est ce que les femmes en CDD et dont le crédit a été refusé ont un salaire plus faible que les femmes en CDD et dont le crédit leur a été accepté au seuil 5%?\n"
   ]
  },
  {
   "cell_type": "code",
   "execution_count": null,
   "id": "3a595251",
   "metadata": {},
   "outputs": [],
   "source": []
  },
  {
   "cell_type": "markdown",
   "id": "b8ec8bfe",
   "metadata": {},
   "source": [
    "4. Est ce que les Hommes en CDD et dont le crédit a été refusé ont un salaire plus faible que les Hommes en CDD et dont le crédit leur a été accepté au seuil 5%?\n"
   ]
  },
  {
   "cell_type": "code",
   "execution_count": null,
   "id": "7c1d57cb",
   "metadata": {},
   "outputs": [],
   "source": []
  },
  {
   "cell_type": "code",
   "execution_count": null,
   "id": "a2832fa4",
   "metadata": {},
   "outputs": [],
   "source": []
  }
 ],
 "metadata": {
  "kernelspec": {
   "display_name": "R",
   "language": "R",
   "name": "ir"
  },
  "language_info": {
   "codemirror_mode": "r",
   "file_extension": ".r",
   "mimetype": "text/x-r-source",
   "name": "R",
   "pygments_lexer": "r",
   "version": "4.1.1"
  }
 },
 "nbformat": 4,
 "nbformat_minor": 5
}
